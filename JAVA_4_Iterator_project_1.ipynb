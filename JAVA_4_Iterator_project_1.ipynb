{
 "cells": [
  {
   "cell_type": "code",
   "execution_count": 7,
   "id": "c4e2b4d4",
   "metadata": {},
   "outputs": [],
   "source": [
    "class Cons\n",
    "{\n",
    "    int data;\n",
    "    Cons next;\n",
    "    Cons(int d, Cons n)\n",
    "    {\n",
    "        data = d;\n",
    "        next = n;\n",
    "    }\n",
    "}"
   ]
  },
  {
   "cell_type": "code",
   "execution_count": 8,
   "id": "5825c953",
   "metadata": {},
   "outputs": [],
   "source": [
    "class MyList implements Iterable /* implements Iterable */\n",
    "{\n",
    "    Cons head;\n",
    "    static MyList of(int ...xs)\n",
    "    {\n",
    "        var list = new MyList();\n",
    "        Cons head = null;\n",
    "\n",
    "        for(int i=xs.length-1;i>=0;i--)\n",
    "        {\n",
    "            head = new Cons(xs[i], head);\n",
    "        }\n",
    "        list.head = head;\n",
    "\n",
    "        return list;\n",
    "    }\n",
    "\n",
    "    @Override\n",
    "    public Iterator iterator() {\n",
    "        return new MyIterator(this);\n",
    "    }\n",
    "}\n",
    "\n",
    "class MyIterator implements Iterator /* implements Iterator */\n",
    "{\t\n",
    "    MyList my_list;\n",
    "\n",
    "    MyIterator(MyList my_list)\n",
    "    {\n",
    "        this.my_list = my_list;\n",
    "    }\n",
    "\n",
    "    @Override\n",
    "    public boolean hasNext()\n",
    "    {\n",
    "        if(this.my_list.head == null)\n",
    "        {\n",
    "            return false;\n",
    "        }\n",
    "        else\n",
    "        {\n",
    "            return true;\n",
    "        }\n",
    "    }\n",
    "\n",
    "    @Override\n",
    "    public Object next()\n",
    "    {\n",
    "        int result = Integer.valueOf(this.my_list.head.data);\n",
    "\n",
    "        this.my_list.head = this.my_list.head.next;\n",
    "\n",
    "        return result;\n",
    "    }\n",
    "}"
   ]
  },
  {
   "cell_type": "code",
   "execution_count": 9,
   "id": "c1d68b26",
   "metadata": {},
   "outputs": [
    {
     "name": "stdout",
     "output_type": "stream",
     "text": [
      "1 2 3 4 "
     ]
    }
   ],
   "source": [
    "var list = List.of(1,2,3,4);\n",
    "for(var x:list)\n",
    "{\n",
    "    System.out.print(x + \" \");\n",
    "}"
   ]
  },
  {
   "cell_type": "code",
   "execution_count": 10,
   "id": "f1ce4481",
   "metadata": {},
   "outputs": [
    {
     "name": "stdout",
     "output_type": "stream",
     "text": [
      "1 2 3 4 "
     ]
    }
   ],
   "source": [
    "var list = MyList.of(1, 2, 3, 4);\n",
    "for(var x:list)\n",
    "{\n",
    "    System.out.print(x + \" \");\n",
    "}"
   ]
  },
  {
   "cell_type": "code",
   "execution_count": null,
   "id": "355d4d38",
   "metadata": {},
   "outputs": [],
   "source": []
  }
 ],
 "metadata": {
  "kernelspec": {
   "display_name": "Java",
   "language": "java",
   "name": "java"
  },
  "language_info": {
   "codemirror_mode": "java",
   "file_extension": ".jshell",
   "mimetype": "text/x-java-source",
   "name": "Java",
   "pygments_lexer": "java",
   "version": "18.0.2.1+1-1"
  }
 },
 "nbformat": 4,
 "nbformat_minor": 5
}
