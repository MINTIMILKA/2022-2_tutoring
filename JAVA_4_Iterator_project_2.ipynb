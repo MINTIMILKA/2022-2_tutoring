{
 "cells": [
  {
   "cell_type": "code",
   "execution_count": 2,
   "id": "9e671b5f",
   "metadata": {},
   "outputs": [],
   "source": [
    "public class GCons<T> \n",
    "{\n",
    "    T data;\n",
    "\n",
    "    GCons<T> next;\n",
    "\n",
    "    GCons(T d, GCons<T> n)\n",
    "    {\n",
    "        data = d;\n",
    "        next = n;\n",
    "    }\n",
    "}"
   ]
  },
  {
   "cell_type": "code",
   "execution_count": 3,
   "id": "513183c7",
   "metadata": {},
   "outputs": [],
   "source": [
    "class GList<T> implements Iterable<T> \n",
    "{\n",
    "    GCons head;\n",
    "    static GList of(int ...xs)\n",
    "    {\n",
    "        var list = new GList();\n",
    "        GCons head = null;\n",
    "\n",
    "        for(int i=xs.length-1;i>=0;i--)\n",
    "        {\n",
    "            head = new GCons(xs[i], head);\n",
    "        }\n",
    "        list.head = head;\n",
    "\n",
    "        return list;\n",
    "    }\n",
    "\n",
    "    @Override\n",
    "    public Iterator<T> iterator()\n",
    "    {\n",
    "        return new GIterator<>(this);\n",
    "    }\n",
    "}\n",
    "\n",
    "class GIterator<T> implements Iterator<T>\n",
    "{\n",
    "    GList<T> g_list;\n",
    "\n",
    "    GIterator(GList<T> g_list)\n",
    "    {\n",
    "        this.g_list = g_list;\n",
    "    }\n",
    "\n",
    "    @Override\n",
    "    public boolean hasNext()\n",
    "    {\n",
    "        if(this.g_list.head == null)\n",
    "        {\n",
    "            return false;\n",
    "        }\n",
    "        else\n",
    "        {\n",
    "            return true;\n",
    "        }\n",
    "    }\n",
    "\n",
    "    @Override\n",
    "    public T next()\n",
    "    {\n",
    "        T result = (T)this.g_list.head.data;\n",
    "\n",
    "        this.g_list.head = this.g_list.head.next;\n",
    "\n",
    "        return result;\n",
    "    }\n",
    "}"
   ]
  },
  {
   "cell_type": "code",
   "execution_count": 4,
   "id": "a2d58f95",
   "metadata": {},
   "outputs": [
    {
     "name": "stdout",
     "output_type": "stream",
     "text": [
      "1 2 3 4 1 2 3 4 0 12 3 2 14 53 12 12 "
     ]
    }
   ],
   "source": [
    "GList<Integer> list = GList.of(1, 2, 3, 4, 1, 2, 3, 4, 0, 12, 3, 2, 14, 53, 12, 12);\n",
    "for(var x:list)\n",
    "    System.out.print(x + \" \");"
   ]
  },
  {
   "cell_type": "code",
   "execution_count": null,
   "id": "9329c89d",
   "metadata": {},
   "outputs": [],
   "source": []
  }
 ],
 "metadata": {
  "kernelspec": {
   "display_name": "Java",
   "language": "java",
   "name": "java"
  },
  "language_info": {
   "codemirror_mode": "java",
   "file_extension": ".jshell",
   "mimetype": "text/x-java-source",
   "name": "Java",
   "pygments_lexer": "java",
   "version": "18.0.2.1+1-1"
  }
 },
 "nbformat": 4,
 "nbformat_minor": 5
}
